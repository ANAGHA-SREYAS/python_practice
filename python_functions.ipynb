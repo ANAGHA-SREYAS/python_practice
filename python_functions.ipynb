{
  "nbformat": 4,
  "nbformat_minor": 0,
  "metadata": {
    "colab": {
      "provenance": [],
      "authorship_tag": "ABX9TyMXKS9WfBvXA1wnnWSGtZjZ",
      "include_colab_link": true
    },
    "kernelspec": {
      "name": "python3",
      "display_name": "Python 3"
    },
    "language_info": {
      "name": "python"
    }
  },
  "cells": [
    {
      "cell_type": "markdown",
      "metadata": {
        "id": "view-in-github",
        "colab_type": "text"
      },
      "source": [
        "<a href=\"https://colab.research.google.com/github/ANAGHA-SREYAS/python_practice/blob/main/python_functions.ipynb\" target=\"_parent\"><img src=\"https://colab.research.google.com/assets/colab-badge.svg\" alt=\"Open In Colab\"/></a>"
      ]
    },
    {
      "cell_type": "markdown",
      "source": [
        "Exercise 1: Create a function in Python.\n",
        "\n",
        "Write a program to create a function that takes two arguments, name and age, and print their value."
      ],
      "metadata": {
        "id": "ia6lPJGN8xDe"
      }
    },
    {
      "cell_type": "code",
      "execution_count": null,
      "metadata": {
        "colab": {
          "base_uri": "https://localhost:8080/"
        },
        "id": "Ul1QUmHz8oaE",
        "outputId": "4509ce87-eba8-4a56-8ba1-7ce819fc9066"
      },
      "outputs": [
        {
          "output_type": "execute_result",
          "data": {
            "text/plain": [
              "('anu', 28)"
            ]
          },
          "metadata": {},
          "execution_count": 3
        }
      ],
      "source": [
        "def name_age(name,age):\n",
        "  return(name,age)\n",
        "name_age('anu',28)\n"
      ]
    },
    {
      "cell_type": "markdown",
      "source": [
        "Exercise 2: Create a function with variable length of arguments.\n",
        "\n",
        "Write a program to create function func1() to accept a variable length of arguments and print their value."
      ],
      "metadata": {
        "id": "qrFzmDaD-K2a"
      }
    },
    {
      "cell_type": "code",
      "source": [
        "def func1(*numbers):\n",
        "  for i in numbers:\n",
        "    print(i)\n",
        "func1(10,20,30)\n",
        "func1(60,80)"
      ],
      "metadata": {
        "colab": {
          "base_uri": "https://localhost:8080/"
        },
        "id": "E_ia3lI8-MQQ",
        "outputId": "10a6eb29-b733-49ff-da8a-c44d3597191d"
      },
      "execution_count": null,
      "outputs": [
        {
          "output_type": "stream",
          "name": "stdout",
          "text": [
            "10\n",
            "20\n",
            "30\n",
            "60\n",
            "80\n"
          ]
        }
      ]
    },
    {
      "cell_type": "markdown",
      "source": [
        "Exercise 3: Return multiple values from a function.\n",
        "\n",
        "Write a program to create function calculation() such that it can accept two variables and calculate addition and subtraction. Also, it must return both addition and subtraction in a single return call."
      ],
      "metadata": {
        "id": "2YKB6MUW_PxT"
      }
    },
    {
      "cell_type": "code",
      "source": [
        "def calculation(a,b):\n",
        "  addition=a+b\n",
        "  subtraction=a-b\n",
        "  return addition,subtraction\n",
        "calculation(10,5)"
      ],
      "metadata": {
        "colab": {
          "base_uri": "https://localhost:8080/"
        },
        "id": "VJ60NK9W_SJx",
        "outputId": "9cab7eaa-51ce-4a37-a312-71ac25b2020d"
      },
      "execution_count": null,
      "outputs": [
        {
          "output_type": "execute_result",
          "data": {
            "text/plain": [
              "(15, 5)"
            ]
          },
          "metadata": {},
          "execution_count": 11
        }
      ]
    },
    {
      "cell_type": "markdown",
      "source": [
        "Exercise 4: Create a function with a default argument\n",
        "\n",
        "Write a program to create a function show_employee() using the following conditions.It should accept the employee’s name and salary and display both.\n",
        "If the salary is missing in the function call then assign default value 9000 to salary"
      ],
      "metadata": {
        "id": "iOaxf-IJAOOL"
      }
    },
    {
      "cell_type": "code",
      "source": [
        "def show_employee(name,salary=9000):\n",
        "  print('name:', name,'salary:',salary)\n",
        "show_employee('anu',12000)\n",
        "show_employee('ravi')"
      ],
      "metadata": {
        "colab": {
          "base_uri": "https://localhost:8080/"
        },
        "id": "5X51_t9YAeOV",
        "outputId": "055ea1b2-9d08-402c-da1a-e20ca75a64ac"
      },
      "execution_count": null,
      "outputs": [
        {
          "output_type": "stream",
          "name": "stdout",
          "text": [
            "name: anu salary: 12000\n",
            "name: ravi salary: 9000\n"
          ]
        }
      ]
    },
    {
      "cell_type": "markdown",
      "source": [
        "Exercise 5: Create an inner function to calculate the addition in the following way\n",
        "\n",
        "Create an outer function that will accept two parameters, a and b\n",
        "\n",
        "Create an inner function inside an outer function that will calculate the addition of a and b\n",
        "\n",
        "At last, an outer function will add 5 into addition and return it"
      ],
      "metadata": {
        "id": "CytYHswuBVLN"
      }
    },
    {
      "cell_type": "code",
      "source": [
        "def calculate_function(a,b):\n",
        "  def addition(a,b):\n",
        "    return a+b\n",
        "  return (a+b)+5\n",
        "calculate_function(2,3)"
      ],
      "metadata": {
        "colab": {
          "base_uri": "https://localhost:8080/"
        },
        "id": "C2m-uJV5Bcju",
        "outputId": "f6dc3c05-db80-401e-ba91-a5148ea46c4b"
      },
      "execution_count": null,
      "outputs": [
        {
          "output_type": "execute_result",
          "data": {
            "text/plain": [
              "10"
            ]
          },
          "metadata": {},
          "execution_count": 17
        }
      ]
    },
    {
      "cell_type": "markdown",
      "source": [
        "Exercise 6: Create a recursive function.\n",
        "\n",
        "Write a program to create a recursive function to calculate the sum of numbers from 0 to 10.\n",
        "\n",
        "\n",
        "A recursive function is a function that calls itself again and again."
      ],
      "metadata": {
        "id": "pMpKoDD5CbKK"
      }
    },
    {
      "cell_type": "code",
      "source": [
        "def recursive_sum(a):\n",
        "  sum=0\n",
        "  for i in range(0,a+1):\n",
        "    sum+=i\n",
        "  return sum\n",
        "recursive_sum(10)\n"
      ],
      "metadata": {
        "colab": {
          "base_uri": "https://localhost:8080/"
        },
        "id": "zALZwHy2CdsV",
        "outputId": "9903eb1c-4c9e-430b-9b39-b4af5f2f56f2"
      },
      "execution_count": null,
      "outputs": [
        {
          "output_type": "execute_result",
          "data": {
            "text/plain": [
              "55"
            ]
          },
          "metadata": {},
          "execution_count": 19
        }
      ]
    },
    {
      "cell_type": "markdown",
      "source": [
        "Exercise 7: Assign a different name to function and call it through the new name\n",
        "\n",
        "Below is the function display_student(name, age).\n",
        "Assign a new name show_tudent(name, age) to it and call it using the new name."
      ],
      "metadata": {
        "id": "_08pHYQnDaUY"
      }
    },
    {
      "cell_type": "code",
      "source": [
        "def display_student(name,age):\n",
        "  return name,age\n",
        "show_student=display_student\n",
        "show_student('emma',28)"
      ],
      "metadata": {
        "colab": {
          "base_uri": "https://localhost:8080/"
        },
        "id": "3BSkYA4SC3Qn",
        "outputId": "5946d5e2-396c-4d8b-b1ca-a8958b87d56a"
      },
      "execution_count": null,
      "outputs": [
        {
          "output_type": "execute_result",
          "data": {
            "text/plain": [
              "('emma', 28)"
            ]
          },
          "metadata": {},
          "execution_count": 20
        }
      ]
    },
    {
      "cell_type": "markdown",
      "source": [
        "Exercise 8: Generate a Python list of all the even numbers between 4 to 30"
      ],
      "metadata": {
        "id": "CB_KQy-1EPuS"
      }
    },
    {
      "cell_type": "code",
      "source": [
        "def list_of_numbers(a,b):\n",
        "  new_list=[]\n",
        "  for i in range(a,b):\n",
        "    if i%2==0:\n",
        "      new_list.append(i)\n",
        "  return new_list\n",
        "list_of_numbers(4,30)\n",
        "\n"
      ],
      "metadata": {
        "colab": {
          "base_uri": "https://localhost:8080/"
        },
        "id": "Y-7Em9DiERJP",
        "outputId": "02ef2e4a-ef9b-4291-ac75-aaa44b3b08d8"
      },
      "execution_count": null,
      "outputs": [
        {
          "output_type": "execute_result",
          "data": {
            "text/plain": [
              "[4, 6, 8, 10, 12, 14, 16, 18, 20, 22, 24, 26, 28]"
            ]
          },
          "metadata": {},
          "execution_count": 24
        }
      ]
    },
    {
      "cell_type": "markdown",
      "source": [
        "Exercise 9: Find the largest item from a given list"
      ],
      "metadata": {
        "id": "apoG9sCQFNNc"
      }
    },
    {
      "cell_type": "code",
      "source": [
        "def find_max(x):\n",
        "  return max(x)\n",
        "a=[1,2,3,4,5]\n",
        "find_max(a)\n"
      ],
      "metadata": {
        "colab": {
          "base_uri": "https://localhost:8080/"
        },
        "id": "947pWA0XFOOj",
        "outputId": "2b453c1d-da3d-43ad-b830-f1dc037e04ef"
      },
      "execution_count": null,
      "outputs": [
        {
          "output_type": "execute_result",
          "data": {
            "text/plain": [
              "5"
            ]
          },
          "metadata": {},
          "execution_count": 25
        }
      ]
    },
    {
      "cell_type": "markdown",
      "source": [
        "10. Write a Python function to find the maximum of three numbers"
      ],
      "metadata": {
        "id": "upk-_kOjIQW3"
      }
    },
    {
      "cell_type": "code",
      "source": [
        "def max_value(a,b,c):\n",
        "  return max(a,b,c)\n",
        "max_value(5,7,9)\n",
        "print('the maximum value is ',max_value(5,7,9))"
      ],
      "metadata": {
        "colab": {
          "base_uri": "https://localhost:8080/"
        },
        "id": "ThvQAYNvIVqE",
        "outputId": "d508a906-73f8-44a8-f7dc-8800abb0fac4"
      },
      "execution_count": null,
      "outputs": [
        {
          "output_type": "stream",
          "name": "stdout",
          "text": [
            "the maximum value is  9\n"
          ]
        }
      ]
    },
    {
      "cell_type": "markdown",
      "source": [
        "11 Write a Python function to sum all the numbers in a list.\n",
        "\n",
        "Sample List : (8, 2, 3, 0, 7)\n",
        "\n",
        "Expected Output : 20"
      ],
      "metadata": {
        "id": "cPWn28gFJL2c"
      }
    },
    {
      "cell_type": "code",
      "source": [
        "def find_sum(a):\n",
        "  sum=0\n",
        "  for i in a:\n",
        "    sum+=i\n",
        "  return sum\n",
        "x=[8,2,3,0,7]\n",
        "print('the sum of the values in a given list is ',find_sum(x))\n",
        "\n"
      ],
      "metadata": {
        "colab": {
          "base_uri": "https://localhost:8080/"
        },
        "id": "LIkHKAxVJQBV",
        "outputId": "b6ea5c46-1728-4e8e-8eb3-f1f2bb0c32f1"
      },
      "execution_count": null,
      "outputs": [
        {
          "output_type": "stream",
          "name": "stdout",
          "text": [
            "the sum of the values in a given list is  20\n"
          ]
        }
      ]
    },
    {
      "cell_type": "markdown",
      "source": [
        "12.Write a Python function to multiply all the numbers in a list.\n",
        "\n",
        "Sample List : (8, 2, 3, -1, 7)\n",
        "\n",
        "Expected Output : -336"
      ],
      "metadata": {
        "id": "WcUakPM7J0sc"
      }
    },
    {
      "cell_type": "code",
      "source": [
        "def multiply(a):\n",
        "  result=1\n",
        "  for i in a:\n",
        "    result*=i\n",
        "  return result\n",
        "a=[8, 2, 3, -1, 7]\n",
        "print('the result is ',multiply(a))\n",
        "\n"
      ],
      "metadata": {
        "colab": {
          "base_uri": "https://localhost:8080/"
        },
        "id": "l9h39gN3J9V8",
        "outputId": "672ba8a9-76c4-4586-881c-5c916cef4ae1"
      },
      "execution_count": null,
      "outputs": [
        {
          "output_type": "stream",
          "name": "stdout",
          "text": [
            "the result is  -336\n"
          ]
        }
      ]
    },
    {
      "cell_type": "markdown",
      "source": [
        "13 Write a Python program to reverse a string.\n",
        "\n",
        "Sample String : \"1234abcd\"\n",
        "\n",
        "Expected Output : \"dcba4321\""
      ],
      "metadata": {
        "id": "tUUKSCymK4Pg"
      }
    },
    {
      "cell_type": "code",
      "source": [
        "def reverse_string(a):\n",
        "  return a[::-1]\n",
        "\n",
        "a= \"1234abcd\"\n",
        "reverse_string(a)"
      ],
      "metadata": {
        "colab": {
          "base_uri": "https://localhost:8080/",
          "height": 36
        },
        "id": "BREgKbisK9Uv",
        "outputId": "86c436d9-ac0b-4956-a781-695e07d2f4de"
      },
      "execution_count": null,
      "outputs": [
        {
          "output_type": "execute_result",
          "data": {
            "text/plain": [
              "'dcba4321'"
            ],
            "application/vnd.google.colaboratory.intrinsic+json": {
              "type": "string"
            }
          },
          "metadata": {},
          "execution_count": 31
        }
      ]
    },
    {
      "cell_type": "markdown",
      "source": [
        "14.Write a Python function to calculate the factorial of a number (a non-negative integer). The function accepts the number as an argument"
      ],
      "metadata": {
        "id": "5oec4AFTNR37"
      }
    },
    {
      "cell_type": "code",
      "source": [
        "def factorial(a):\n",
        "  result=1\n",
        "  for i in range(a,1,-1):\n",
        "    result*=i\n",
        "  return result\n",
        "factorial(5)"
      ],
      "metadata": {
        "colab": {
          "base_uri": "https://localhost:8080/"
        },
        "id": "dSdSaZFqNdN8",
        "outputId": "7a8b0ed5-7be7-47dd-920b-69143f3bb488"
      },
      "execution_count": null,
      "outputs": [
        {
          "output_type": "execute_result",
          "data": {
            "text/plain": [
              "120"
            ]
          },
          "metadata": {},
          "execution_count": 35
        }
      ]
    },
    {
      "cell_type": "markdown",
      "source": [
        "15.Write a Python function to check whether a number falls within a given range."
      ],
      "metadata": {
        "id": "9m38p1QCOMkx"
      }
    },
    {
      "cell_type": "code",
      "source": [
        "def find_range(a):\n",
        "  if a in range(10,20):\n",
        "    print(\"the number is in between 10,and 20\")\n",
        "  else:\n",
        "    print('the number is out of range')\n",
        "find_range(3)\n",
        "find_range(17)"
      ],
      "metadata": {
        "colab": {
          "base_uri": "https://localhost:8080/"
        },
        "id": "R3iy7UmpN5DW",
        "outputId": "5adde7b8-e115-4f8c-d891-2b9d2fba7347"
      },
      "execution_count": null,
      "outputs": [
        {
          "output_type": "stream",
          "name": "stdout",
          "text": [
            "the number is out of range\n",
            "the number is in between 10,and 20\n"
          ]
        }
      ]
    },
    {
      "cell_type": "markdown",
      "source": [
        "16.Write a Python function that accepts a string and counts the number of upper and lower case letters.\n",
        "\n",
        "Sample String : 'The quick Brow Fox'\n",
        "\n",
        "Expected Output :\n",
        "\n",
        "No. of Upper case characters : 3\n",
        "\n",
        "No. of Lower case Characters : 12"
      ],
      "metadata": {
        "id": "TC_gxiROPPeS"
      }
    },
    {
      "cell_type": "code",
      "source": [
        "def upper_and_lower(a):\n",
        "  upper_count=0\n",
        "  lower_count=0\n",
        "  for i in a:\n",
        "    if i.isupper():\n",
        "      upper_count+=1\n",
        "    elif i.islower():\n",
        "      lower_count+=1\n",
        "a='The quick Brow Fox'\n",
        "upper_and_lower(a)"
      ],
      "metadata": {
        "colab": {
          "base_uri": "https://localhost:8080/"
        },
        "id": "shYGKsPDO0QV",
        "outputId": "a22c27a5-21a2-4dfa-c45f-5e6f038e07b6"
      },
      "execution_count": null,
      "outputs": [
        {
          "output_type": "execute_result",
          "data": {
            "text/plain": [
              "(3, 12)"
            ]
          },
          "metadata": {},
          "execution_count": 42
        }
      ]
    },
    {
      "cell_type": "markdown",
      "source": [
        "17.Write a Python function that takes a list and returns a new list with distinct elements from the first list.\n",
        "\n",
        "Sample List : [1,2,3,3,3,3,4,5]\n",
        "\n",
        "Unique List : [1, 2, 3, 4, 5]\n"
      ],
      "metadata": {
        "id": "E4ZPuEBURMVw"
      }
    },
    {
      "cell_type": "code",
      "source": [
        "def find_distinct(a):\n",
        "  new_list=list(set(a))\n",
        "  return new_list\n",
        "a=[1,2,3,3,3,3,4,5]\n",
        "find_distinct(a)"
      ],
      "metadata": {
        "colab": {
          "base_uri": "https://localhost:8080/"
        },
        "id": "j0l829AvRRIA",
        "outputId": "f76e4098-36da-4e36-ec49-ea6e85305b68"
      },
      "execution_count": null,
      "outputs": [
        {
          "output_type": "execute_result",
          "data": {
            "text/plain": [
              "[1, 2, 3, 4, 5]"
            ]
          },
          "metadata": {},
          "execution_count": 44
        }
      ]
    },
    {
      "cell_type": "markdown",
      "source": [
        "18.Write a Python function that takes a number as a parameter and checks whether the number is prime or not.\n",
        "\n",
        "Note : A prime number (or a prime) is a natural number greater than 1 and that has no positive divisors other than 1 and itself"
      ],
      "metadata": {
        "id": "JVYFZtsATyKO"
      }
    },
    {
      "cell_type": "code",
      "source": [
        "def check_prime(a):\n",
        "  is_prime=True\n",
        "  for i in range(2,a):\n",
        "    if a%i==0:\n",
        "      is_prime=False\n",
        "      break\n",
        "  if is_prime:\n",
        "    print('the number is a prime number')\n",
        "  else:\n",
        "    print('the number is not a prime number')\n",
        "\n",
        "check_prime(9)"
      ],
      "metadata": {
        "colab": {
          "base_uri": "https://localhost:8080/"
        },
        "id": "IDW1HxNHScC0",
        "outputId": "ac6c0992-f0cf-4875-b637-752c76b189c2"
      },
      "execution_count": null,
      "outputs": [
        {
          "output_type": "stream",
          "name": "stdout",
          "text": [
            "the number is not a prime number\n"
          ]
        }
      ]
    },
    {
      "cell_type": "markdown",
      "source": [
        "19.Write a Python program to print the even numbers from a given list.\n",
        "\n",
        "Sample List : [1, 2, 3, 4, 5, 6, 7, 8, 9]\n",
        "\n",
        "Expected Result : [2, 4, 6, 8]"
      ],
      "metadata": {
        "id": "LDaMut01YTe7"
      }
    },
    {
      "cell_type": "code",
      "source": [
        "def even_number(a):\n",
        "  new_list=[]\n",
        "  for i in a:\n",
        "    if i%2==0:\n",
        "      new_list.append(i)\n",
        "  return new_list\n",
        "a= [1, 2, 3, 4, 5, 6, 7, 8, 9]\n",
        "even_number(a)"
      ],
      "metadata": {
        "colab": {
          "base_uri": "https://localhost:8080/"
        },
        "id": "0eaalWfKUkNQ",
        "outputId": "75d950e4-e268-4f87-bc94-e54189261866"
      },
      "execution_count": null,
      "outputs": [
        {
          "output_type": "execute_result",
          "data": {
            "text/plain": [
              "[2, 4, 6, 8]"
            ]
          },
          "metadata": {},
          "execution_count": 56
        }
      ]
    },
    {
      "cell_type": "markdown",
      "source": [
        "20.Write a Python function to check whether a number is \"Perfect\" or not"
      ],
      "metadata": {
        "id": "4ZdYzNpHZay8"
      }
    },
    {
      "cell_type": "code",
      "source": [
        "def is_perfect_number(a):\n",
        "  if a<=0:\n",
        "    return False\n",
        "  divisor_sum=0\n",
        "  for i in range(1,a):\n",
        "    if a%i==0:\n",
        "      divisor_sum+=i\n",
        "  return divisor_sum==a\n",
        "\n",
        "\n",
        "if is_perfect_number(6):\n",
        "  print('it is a perfect number')\n",
        "else:\n",
        "  print('not a perfect number')"
      ],
      "metadata": {
        "colab": {
          "base_uri": "https://localhost:8080/"
        },
        "id": "ub4jVm0-Y_fs",
        "outputId": "42d1f805-96fa-47b2-8c84-e8d6f1243695"
      },
      "execution_count": null,
      "outputs": [
        {
          "output_type": "stream",
          "name": "stdout",
          "text": [
            "it is a perfect number\n"
          ]
        }
      ]
    },
    {
      "cell_type": "markdown",
      "source": [
        "21.Write a Python function that checks whether a passed string is a palindrome or not.\n",
        "Note: A palindrome is a word, phrase, or sequence that reads the same backward as forward, e.g., madam or nurses run"
      ],
      "metadata": {
        "id": "2LvLuQ2bbkDN"
      }
    },
    {
      "cell_type": "code",
      "source": [
        "def is_palindrome(s):\n",
        "    # Remove spaces and convert to lowercase for case-insensitive comparison\n",
        "    s = s.replace(\" \", \"\").lower()\n",
        "\n",
        "    # Use two pointers to compare characters from both ends of the string\n",
        "    start, end = 0, len(s) - 1\n",
        "\n",
        "    while start < end:\n",
        "        if s[start] != s[end]:\n",
        "            return False\n",
        "        start += 1\n",
        "        end -= 1\n",
        "\n",
        "    return True\n",
        "\n",
        "# Example usage:\n",
        "word = \"madam\"\n",
        "if is_palindrome(word):\n",
        "    print(f\"{word} is a palindrome\")\n",
        "else:\n",
        "    print(f\"{word} is not a palindrome\")"
      ],
      "metadata": {
        "id": "DHLi53Bpf8h7",
        "outputId": "7467e451-f42b-493f-b02c-85855bad4f8f",
        "colab": {
          "base_uri": "https://localhost:8080/"
        }
      },
      "execution_count": null,
      "outputs": [
        {
          "output_type": "stream",
          "name": "stdout",
          "text": [
            "madam is a palindrome\n"
          ]
        }
      ]
    }
  ]
}