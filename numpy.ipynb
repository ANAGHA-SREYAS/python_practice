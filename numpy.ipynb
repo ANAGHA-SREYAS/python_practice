{
  "nbformat": 4,
  "nbformat_minor": 0,
  "metadata": {
    "colab": {
      "provenance": [],
      "authorship_tag": "ABX9TyN8SCQVkXfkrrKFOJzFYxi1",
      "include_colab_link": true
    },
    "kernelspec": {
      "name": "python3",
      "display_name": "Python 3"
    },
    "language_info": {
      "name": "python"
    }
  },
  "cells": [
    {
      "cell_type": "markdown",
      "metadata": {
        "id": "view-in-github",
        "colab_type": "text"
      },
      "source": [
        "<a href=\"https://colab.research.google.com/github/ANAGHA-SREYAS/python_practice/blob/main/numpy.ipynb\" target=\"_parent\"><img src=\"https://colab.research.google.com/assets/colab-badge.svg\" alt=\"Open In Colab\"/></a>"
      ]
    },
    {
      "cell_type": "markdown",
      "source": [
        "1. Write a Numpy program to get the Numpy version."
      ],
      "metadata": {
        "id": "A3Ip8h6aemp8"
      }
    },
    {
      "cell_type": "code",
      "execution_count": 2,
      "metadata": {
        "colab": {
          "base_uri": "https://localhost:8080/"
        },
        "id": "aqOR03Q7eQCQ",
        "outputId": "7432af6c-eabf-4fb3-b87a-9d5a2bdf9e4e"
      },
      "outputs": [
        {
          "output_type": "stream",
          "name": "stdout",
          "text": [
            "1.25.2\n",
            "<function show at 0x7b0b5b3f88b0>\n"
          ]
        }
      ],
      "source": [
        "import numpy as np\n",
        "print(np.__version__)\n"
      ]
    },
    {
      "cell_type": "markdown",
      "source": [
        "2. Write a NumPy program to get help with the add function"
      ],
      "metadata": {
        "id": "x-QqMbkifofv"
      }
    },
    {
      "cell_type": "code",
      "source": [
        "arr1=np.array([1,2,3,4])\n",
        "arr2=np.array([5,6,7,8])\n",
        "sum=np.add(arr1,arr2)\n",
        "sum"
      ],
      "metadata": {
        "colab": {
          "base_uri": "https://localhost:8080/"
        },
        "id": "Mabm2otrfpoh",
        "outputId": "af8097b6-f2a8-47bd-a237-6539d836af30"
      },
      "execution_count": 3,
      "outputs": [
        {
          "output_type": "execute_result",
          "data": {
            "text/plain": [
              "array([ 6,  8, 10, 12])"
            ]
          },
          "metadata": {},
          "execution_count": 3
        }
      ]
    },
    {
      "cell_type": "markdown",
      "source": [
        "3. Write a NumPy program to test whether none of the elements of a given array are zero."
      ],
      "metadata": {
        "id": "GzUxY2JMhmPH"
      }
    },
    {
      "cell_type": "code",
      "source": [
        "import numpy as np\n",
        "def non_zero(arr):\n",
        "  return np.all(arr!=0)\n",
        "\n",
        "arr1=np.array([1,2,3,4])\n",
        "arr2=np.array([5,6,0,8])\n",
        "print(non_zero(arr1))\n",
        "print(non_zero(arr2))"
      ],
      "metadata": {
        "colab": {
          "base_uri": "https://localhost:8080/"
        },
        "id": "JhUgXEb-hnKN",
        "outputId": "47e06f1f-ebda-4927-a5a4-6ef8aabe60d0"
      },
      "execution_count": 8,
      "outputs": [
        {
          "output_type": "stream",
          "name": "stdout",
          "text": [
            "True\n",
            "False\n"
          ]
        }
      ]
    },
    {
      "cell_type": "markdown",
      "source": [
        "4. Write a NumPy program to test if any of the elements of a given array are non-zero."
      ],
      "metadata": {
        "id": "efARJPEtjmcJ"
      }
    },
    {
      "cell_type": "code",
      "source": [
        "import numpy as np\n",
        "def non_zero(arr):\n",
        "  return np.any(arr!=0)\n",
        "arr1=np.array([1,2,3,4])\n",
        "arr2=np.array([5,6,0,8])\n",
        "print(non_zero(arr1))\n",
        "print(non_zero(arr2))"
      ],
      "metadata": {
        "colab": {
          "base_uri": "https://localhost:8080/"
        },
        "id": "Aj-aLuzIjoOq",
        "outputId": "1b106b6f-d84d-43de-f84b-dffc9f7584a1"
      },
      "execution_count": 13,
      "outputs": [
        {
          "output_type": "stream",
          "name": "stdout",
          "text": [
            "True\n",
            "True\n"
          ]
        }
      ]
    },
    {
      "cell_type": "markdown",
      "source": [
        "5. How to create a 1D array?"
      ],
      "metadata": {
        "id": "DFuRmZJLlWgG"
      }
    },
    {
      "cell_type": "code",
      "source": [
        "import numpy as np\n",
        "x=[1,2,3,4,5]\n",
        "arr=np.array(x)\n",
        "print(arr)\n",
        "print('the dimension is',arr.ndim)"
      ],
      "metadata": {
        "colab": {
          "base_uri": "https://localhost:8080/"
        },
        "id": "r1LQjcvzlb-h",
        "outputId": "ef69d00a-2e73-462d-bf18-fcdaf577b962"
      },
      "execution_count": 16,
      "outputs": [
        {
          "output_type": "stream",
          "name": "stdout",
          "text": [
            "[1 2 3 4 5]\n",
            "the dimension is 1\n"
          ]
        }
      ]
    },
    {
      "cell_type": "markdown",
      "source": [
        "6.How to create a boolean array?\n",
        "\n",
        "# Question : Create a 3×3 numpy array of all True’s"
      ],
      "metadata": {
        "id": "zjFHzFTrmEfT"
      }
    },
    {
      "cell_type": "code",
      "source": [
        "import numpy as np\n",
        "np.ones((3,3),dtype=bool)"
      ],
      "metadata": {
        "colab": {
          "base_uri": "https://localhost:8080/"
        },
        "id": "0H8howPymJQX",
        "outputId": "a6ceb7b1-16a8-4171-f4ad-3b1a99ab3664"
      },
      "execution_count": 17,
      "outputs": [
        {
          "output_type": "execute_result",
          "data": {
            "text/plain": [
              "array([[ True,  True,  True],\n",
              "       [ True,  True,  True],\n",
              "       [ True,  True,  True]])"
            ]
          },
          "metadata": {},
          "execution_count": 17
        }
      ]
    },
    {
      "cell_type": "markdown",
      "source": [
        "How to extract items that satisfy a given condition from 1D array?\n",
        "Question : Extract all odd numbers from array\n",
        "# input: arr = np.array([0, 1, 2, 3, 4, 5, 6, 7, 8, 9])\n",
        "# output: array([1, 3, 5, 7, 9])"
      ],
      "metadata": {
        "id": "iRmLhdL1mzig"
      }
    },
    {
      "cell_type": "code",
      "source": [
        "import numpy as np\n",
        "arr=np.arange(0,10)\n",
        "new_arr=arr[arr%2!=0]\n",
        "new_arr"
      ],
      "metadata": {
        "colab": {
          "base_uri": "https://localhost:8080/"
        },
        "id": "OOFgeZzOm5du",
        "outputId": "01ad3a52-b2af-438f-bbd3-910d23e64e10"
      },
      "execution_count": 18,
      "outputs": [
        {
          "output_type": "execute_result",
          "data": {
            "text/plain": [
              "array([1, 3, 5, 7, 9])"
            ]
          },
          "metadata": {},
          "execution_count": 18
        }
      ]
    },
    {
      "cell_type": "markdown",
      "source": [
        " How to replace items that satisfy a condition with another value in numpy array?\n",
        " Question: Replace all odd numbers in arr with -1\n",
        "# input: arr = np.array([0, 1, 2, 3, 4, 5, 6, 7, 8, 9])\n",
        "# output: array([ 0, -1,  2, -1,  4, -1,  6, -1,  8, -1])"
      ],
      "metadata": {
        "id": "lwnHcwOCni5c"
      }
    },
    {
      "cell_type": "code",
      "source": [
        "import numpy as np\n",
        "arr=np.arange(10)\n",
        "arr[arr%2!=0]=-1\n",
        "arr"
      ],
      "metadata": {
        "colab": {
          "base_uri": "https://localhost:8080/"
        },
        "id": "dRR8vPZyntg0",
        "outputId": "7aa182ee-056f-40c5-959a-f9fce97e694b"
      },
      "execution_count": 19,
      "outputs": [
        {
          "output_type": "execute_result",
          "data": {
            "text/plain": [
              "array([ 0, -1,  2, -1,  4, -1,  6, -1,  8, -1])"
            ]
          },
          "metadata": {},
          "execution_count": 19
        }
      ]
    },
    {
      "cell_type": "markdown",
      "source": [
        "How to replace items that satisfy a condition without affecting the original array?\n",
        "Question: Replace all odd numbers in arr with -1 without changing arr\n",
        "# input: arr = np.array([0, 1, 2, 3, 4, 5, 6, 7, 8, 9])\n",
        "# output: out\n",
        "# array([ 0, -1,  2, -1,  4, -1,  6, -1,  8, -1])\n",
        "# arr\n",
        "# array([0, 1, 2, 3, 4, 5, 6, 7, 8, 9])"
      ],
      "metadata": {
        "id": "j5aG2LySoW6s"
      }
    },
    {
      "cell_type": "code",
      "source": [
        "import numpy as np\n",
        "arr=np.arange(10)\n",
        "new_arr=arr.copy()\n",
        "new_arr[new_arr%2!=0]=-1\n",
        "print(\"the original array\",arr)\n",
        "print('the modified array',new_arr)"
      ],
      "metadata": {
        "colab": {
          "base_uri": "https://localhost:8080/"
        },
        "id": "If28wnzloeK3",
        "outputId": "656a4dde-dd99-465f-fc88-308a05d0332b"
      },
      "execution_count": 25,
      "outputs": [
        {
          "output_type": "stream",
          "name": "stdout",
          "text": [
            "the original array [0 1 2 3 4 5 6 7 8 9]\n",
            "the modified array [ 0 -1  2 -1  4 -1  6 -1  8 -1]\n"
          ]
        }
      ]
    },
    {
      "cell_type": "markdown",
      "source": [
        "How to reshape an array?\n",
        "Question: Convert a 1D array to a 2D array with 2 rows\n",
        "# input: np.arange(10)\n",
        "# output array([[0, 1, 2, 3, 4],\n",
        "#               [5, 6, 7, 8, 9]])"
      ],
      "metadata": {
        "id": "Ww2-P3eXp2jE"
      }
    },
    {
      "cell_type": "code",
      "source": [
        "import numpy as np\n",
        "arr=np.arange(10)\n",
        "arr.reshape(2,5)\n",
        "\n"
      ],
      "metadata": {
        "colab": {
          "base_uri": "https://localhost:8080/"
        },
        "id": "A4BrMDA3p6xi",
        "outputId": "eb9f865a-a1d3-42e0-c3ba-5f598a108a81"
      },
      "execution_count": 27,
      "outputs": [
        {
          "output_type": "execute_result",
          "data": {
            "text/plain": [
              "array([[0, 1, 2, 3, 4],\n",
              "       [5, 6, 7, 8, 9]])"
            ]
          },
          "metadata": {},
          "execution_count": 27
        }
      ]
    },
    {
      "cell_type": "markdown",
      "source": [
        " How to stack two arrays vertically?\n",
        " Question: Stack arrays a and b vertically\n",
        "# input: a = np.arange(10).reshape(2,-1)\n",
        "#        b = np.repeat(1, 10).reshape(2,-1)\n",
        "\n",
        "# output: array([[0, 1, 2, 3, 4],\n",
        "#                [5, 6, 7, 8, 9],\n",
        "#                [1, 1, 1, 1, 1],\n",
        "#                [1, 1, 1, 1, 1]])"
      ],
      "metadata": {
        "id": "3T6v4H5zq7IT"
      }
    },
    {
      "cell_type": "code",
      "source": [
        "import numpy as np\n",
        "a=np.arange(10).reshape(2,-1)\n",
        "b=np.repeat(1,10).reshape(2,-1)\n",
        "np.vstack([a,b])"
      ],
      "metadata": {
        "colab": {
          "base_uri": "https://localhost:8080/"
        },
        "id": "tITlfMjbqTpC",
        "outputId": "2f20abb1-4a13-43c5-8e82-50fef8de0ccf"
      },
      "execution_count": 32,
      "outputs": [
        {
          "output_type": "execute_result",
          "data": {
            "text/plain": [
              "array([[0, 1, 2, 3, 4],\n",
              "       [5, 6, 7, 8, 9],\n",
              "       [1, 1, 1, 1, 1],\n",
              "       [1, 1, 1, 1, 1]])"
            ]
          },
          "metadata": {},
          "execution_count": 32
        }
      ]
    },
    {
      "cell_type": "markdown",
      "source": [
        "How to stack two arrays horizontally?\n",
        "\n",
        "Question: Stack the arrays a and b horizontally.\n",
        "\n",
        "# Input: a = np.arange(10).reshape(2,-1)\n",
        "#        b = np.repeat(1, 10).reshape(2,-1)\n",
        "# Output: array([[0, 1, 2, 3, 4, 1, 1, 1, 1, 1],\n",
        "#                [5, 6, 7, 8, 9, 1, 1, 1, 1, 1]])"
      ],
      "metadata": {
        "id": "1HqTcXWgsomr"
      }
    },
    {
      "cell_type": "code",
      "source": [
        "import numpy as np\n",
        "a = np.arange(10).reshape(2,-1)\n",
        "b = np.repeat(1, 10).reshape(2,-1)\n",
        "np.hstack([a,b])"
      ],
      "metadata": {
        "colab": {
          "base_uri": "https://localhost:8080/"
        },
        "id": "ZGJun-tesuhW",
        "outputId": "39586b19-0610-4463-c6bf-59f18ce81650"
      },
      "execution_count": 33,
      "outputs": [
        {
          "output_type": "execute_result",
          "data": {
            "text/plain": [
              "array([[0, 1, 2, 3, 4, 1, 1, 1, 1, 1],\n",
              "       [5, 6, 7, 8, 9, 1, 1, 1, 1, 1]])"
            ]
          },
          "metadata": {},
          "execution_count": 33
        }
      ]
    },
    {
      "cell_type": "markdown",
      "source": [
        "How to generate custom sequences in numpy without hardcoding?\n",
        "\n",
        "\n",
        "Question: Create the following pattern without hardcoding. Use only numpy functions and the below input array a.\n",
        "\n",
        "# Input: a = np.array([1,2,3])\n",
        "# Output: array([1, 1, 1, 2, 2, 2, 3, 3, 3, 1, 2, 3, 1, 2, 3, 1, 2, 3])\n"
      ],
      "metadata": {
        "id": "KpEpsRhktNLd"
      }
    },
    {
      "cell_type": "code",
      "source": [
        "import numpy as np\n",
        "a = np.array([1,2,3])\n",
        "repeated_a=np.tile(a,3)\n",
        "final_output=np.tile(repeated_a,len(a))\n",
        "final_output"
      ],
      "metadata": {
        "colab": {
          "base_uri": "https://localhost:8080/"
        },
        "id": "gDRMWL05tRw7",
        "outputId": "4acd76c5-cb1d-4a6d-8a82-24367c863f78"
      },
      "execution_count": 37,
      "outputs": [
        {
          "output_type": "execute_result",
          "data": {
            "text/plain": [
              "array([1, 2, 3, 1, 2, 3, 1, 2, 3, 1, 2, 3, 1, 2, 3, 1, 2, 3, 1, 2, 3, 1,\n",
              "       2, 3, 1, 2, 3])"
            ]
          },
          "metadata": {},
          "execution_count": 37
        }
      ]
    },
    {
      "cell_type": "markdown",
      "source": [
        " How to get the common items between two python numpy arrays?\n",
        " Question: Get the common items between a and b\n",
        "\n",
        "# Input: a = np.array([1,2,3,2,3,4,3,4,5,6])\n",
        "#        b = np.array([7,2,10,2,7,4,9,4,9,8])\n",
        "\n",
        "# Output: array([2, 4])"
      ],
      "metadata": {
        "id": "CqmBjRSSv46C"
      }
    },
    {
      "cell_type": "code",
      "source": [
        "import numpy as np\n",
        "a = np.array([1,2,3,2,3,4,3,4,5,6])\n",
        "b = np.array([7,2,10,2,7,4,9,4,9,8])\n",
        "\n",
        "\n",
        "common_elements = a[np.isin(a, b)]\n",
        "common_elements = np.unique(common_elements)\n",
        "common_elements\n"
      ],
      "metadata": {
        "colab": {
          "base_uri": "https://localhost:8080/"
        },
        "id": "YJOe_NHkv-sz",
        "outputId": "fc7a3df4-2f76-4375-f16d-441b8e6e79cb"
      },
      "execution_count": 39,
      "outputs": [
        {
          "output_type": "execute_result",
          "data": {
            "text/plain": [
              "array([2, 4])"
            ]
          },
          "metadata": {},
          "execution_count": 39
        }
      ]
    },
    {
      "cell_type": "markdown",
      "source": [
        "How to remove from one array those items that exist in another?\n",
        "\n",
        "From array a remove all items present in array b\n",
        "\n",
        "# Input: a = np.array([1,2,3,4,5])\n",
        "#        b = np.array([5,6,7,8,9])\n",
        "\n",
        "# Output: array([1,2,3,4])"
      ],
      "metadata": {
        "id": "TQ4VDFWZymaW"
      }
    },
    {
      "cell_type": "code",
      "source": [
        "import numpy as np\n",
        "a = np.array([1,2,3,4,5])\n",
        "b = np.array([5,6,7,8,9])\n",
        "arr=np.array([x for x in a if x not in b])\n",
        "arr"
      ],
      "metadata": {
        "colab": {
          "base_uri": "https://localhost:8080/"
        },
        "id": "_lgRtBkUysXp",
        "outputId": "0f074063-2874-4c24-de5f-d767f3b72edd"
      },
      "execution_count": 44,
      "outputs": [
        {
          "output_type": "execute_result",
          "data": {
            "text/plain": [
              "array([1, 2, 3, 4])"
            ]
          },
          "metadata": {},
          "execution_count": 44
        }
      ]
    },
    {
      "cell_type": "markdown",
      "source": [
        " How to get the positions where elements of two arrays match?\n",
        " Question: Get the positions where elements of a and b match\n",
        "\n",
        "# Input: a = np.array([1,2,3,2,3,4,3,4,5,6])\n",
        "#        b = np.array([7,2,10,2,7,4,9,4,9,8])\n",
        "\n",
        "# Output: (array([1, 3, 5, 7]),)"
      ],
      "metadata": {
        "id": "CX48uT9Q0HnI"
      }
    },
    {
      "cell_type": "code",
      "source": [
        "import numpy as np\n",
        "a = np.array([1,2,3,2,3,4,3,4,5,6])\n",
        "b = np.array([7,2,10,2,7,4,9,4,9,8])\n",
        "x=np.where(a==b)\n",
        "print(x)"
      ],
      "metadata": {
        "colab": {
          "base_uri": "https://localhost:8080/"
        },
        "id": "gt_sKIEr0Mgd",
        "outputId": "6a875ce3-f411-4669-e709-84ec2128fc43"
      },
      "execution_count": 46,
      "outputs": [
        {
          "output_type": "stream",
          "name": "stdout",
          "text": [
            "(array([1, 3, 5, 7]),)\n"
          ]
        }
      ]
    },
    {
      "cell_type": "markdown",
      "source": [
        " Question: Get all items between 5 and 10 from a.\n",
        "\n",
        "# Input: a = np.array([2, 6, 1, 9, 10, 3, 27])\n",
        "# Output: (array([6, 9, 10]),)\n"
      ],
      "metadata": {
        "id": "fHje6j1r0tqW"
      }
    },
    {
      "cell_type": "code",
      "source": [
        "import numpy as np\n",
        "a = np.array([2, 6, 1, 9, 10, 3, 27])\n",
        "arr=a[(a<=10) & (a>5)]\n",
        "arr"
      ],
      "metadata": {
        "colab": {
          "base_uri": "https://localhost:8080/"
        },
        "id": "r6UKnYxa0vWw",
        "outputId": "b79f41f9-bf78-4748-da15-bcf33c9ab00e"
      },
      "execution_count": 54,
      "outputs": [
        {
          "output_type": "execute_result",
          "data": {
            "text/plain": [
              "array([ 6,  9, 10])"
            ]
          },
          "metadata": {},
          "execution_count": 54
        }
      ]
    },
    {
      "cell_type": "markdown",
      "source": [
        "Question: Swap columns 1 and 2 in the array arr.\n",
        "\n",
        "# Input:\n",
        "\n",
        "arr = np.arange(9).reshape(3,3)\n",
        "\n",
        "print('Original array')\n",
        "\n",
        "arr"
      ],
      "metadata": {
        "id": "tlBxez0P3h2F"
      }
    },
    {
      "cell_type": "code",
      "source": [
        "import numpy as np\n",
        "arr = np.arange(9).reshape(3,3)\n",
        "print('original array\\n',arr)\n",
        "arr[:,[1,2]]=arr[:,[2,1]]\n",
        "print('array after swaping\\n',arr)\n"
      ],
      "metadata": {
        "colab": {
          "base_uri": "https://localhost:8080/"
        },
        "id": "5sKJwsel3jdl",
        "outputId": "eb1daafd-f688-4d39-e12f-4cb4ab2807ed"
      },
      "execution_count": 58,
      "outputs": [
        {
          "output_type": "stream",
          "name": "stdout",
          "text": [
            "original array\n",
            " [[0 1 2]\n",
            " [3 4 5]\n",
            " [6 7 8]]\n",
            "array after swaping\n",
            " [[0 2 1]\n",
            " [3 5 4]\n",
            " [6 8 7]]\n"
          ]
        }
      ]
    },
    {
      "cell_type": "markdown",
      "source": [
        "Question: Swap rows 1 and 2 in the array arr:\n",
        "\n",
        "# Input:\n",
        "\n",
        "arr = np.arange(9).reshape(3,3)\n",
        "\n",
        "print('Original array')\n",
        "\n",
        "arr"
      ],
      "metadata": {
        "id": "mUPZzWDV44zG"
      }
    },
    {
      "cell_type": "code",
      "source": [
        "import numpy as np\n",
        "arr = np.arange(9).reshape(3,3)\n",
        "print('original array\\n',arr)\n",
        "arr[[1,2]]=arr[[2,1]]\n",
        "print('array after swaping\\n',arr)\n",
        "\n"
      ],
      "metadata": {
        "colab": {
          "base_uri": "https://localhost:8080/"
        },
        "id": "GPkryGO147Gs",
        "outputId": "93b8e204-9182-4349-ac7a-850d8c121a35"
      },
      "execution_count": 61,
      "outputs": [
        {
          "output_type": "stream",
          "name": "stdout",
          "text": [
            "original array\n",
            " [[0 1 2]\n",
            " [3 4 5]\n",
            " [6 7 8]]\n",
            "array after swaping\n",
            " [[0 1 2]\n",
            " [6 7 8]\n",
            " [3 4 5]]\n"
          ]
        }
      ]
    },
    {
      "cell_type": "markdown",
      "source": [
        "Question: Reverse the rows of a 2D array arr.\n",
        "\n",
        "# Input:\n",
        "\n",
        "arr = np.arange(9).reshape(3,3)\n",
        "\n",
        "print('Original array')\n",
        "\n",
        "arr"
      ],
      "metadata": {
        "id": "vtxns06-QitT"
      }
    },
    {
      "cell_type": "code",
      "source": [
        "import numpy as np\n",
        "arr = np.arange(9).reshape(3,3)\n",
        "print('original array\\n',arr)\n",
        "arr[:]=arr[::-1]\n",
        "print('the reversed array\\n',arr)"
      ],
      "metadata": {
        "colab": {
          "base_uri": "https://localhost:8080/"
        },
        "id": "AxqbQIbXQm4E",
        "outputId": "d4144db8-891e-448d-cb0f-5df0418ebf98"
      },
      "execution_count": 64,
      "outputs": [
        {
          "output_type": "stream",
          "name": "stdout",
          "text": [
            "original array\n",
            " [[0 1 2]\n",
            " [3 4 5]\n",
            " [6 7 8]]\n",
            "the reversed array\n",
            " [[6 7 8]\n",
            " [3 4 5]\n",
            " [0 1 2]]\n"
          ]
        }
      ]
    },
    {
      "cell_type": "markdown",
      "source": [
        "Question: Reverse the columns of a 2D array arr.\n",
        "\n",
        "# Input: arr = np.arange(9).reshape(3,3)"
      ],
      "metadata": {
        "id": "dtmtd8J8RwHy"
      }
    },
    {
      "cell_type": "code",
      "source": [
        "import numpy as np\n",
        "arr = np.arange(9).reshape(3,3)\n",
        "print('original array\\n',arr)\n",
        "arr[:]=arr[:,::-1]\n",
        "print('the reversed array\\n',arr)"
      ],
      "metadata": {
        "colab": {
          "base_uri": "https://localhost:8080/"
        },
        "id": "lJ-J1PkuRyZG",
        "outputId": "f8f29a44-59a0-4292-863a-9649c507e04f"
      },
      "execution_count": 66,
      "outputs": [
        {
          "output_type": "stream",
          "name": "stdout",
          "text": [
            "original array\n",
            " [[0 1 2]\n",
            " [3 4 5]\n",
            " [6 7 8]]\n",
            "the reversed array\n",
            " [[2 1 0]\n",
            " [5 4 3]\n",
            " [8 7 6]]\n"
          ]
        }
      ]
    },
    {
      "cell_type": "markdown",
      "source": [
        "Question: Create a 2D array of shape 5x3 to contain random decimal numbers between 5 and 10.\n"
      ],
      "metadata": {
        "id": "HyhyCxJPSlFy"
      }
    },
    {
      "cell_type": "code",
      "source": [
        "import numpy as np\n",
        "np.random.uniform(5,10,size=(5,3))"
      ],
      "metadata": {
        "colab": {
          "base_uri": "https://localhost:8080/"
        },
        "id": "hNPPRtOwSnBa",
        "outputId": "2fe44596-99d2-4841-ce86-57bc1de41c7b"
      },
      "execution_count": 67,
      "outputs": [
        {
          "output_type": "execute_result",
          "data": {
            "text/plain": [
              "array([[7.96281005, 5.27843343, 8.14701389],\n",
              "       [7.90393469, 5.5005074 , 5.19761721],\n",
              "       [7.48188333, 8.67795681, 8.39985916],\n",
              "       [8.5234053 , 7.1623754 , 6.15137583],\n",
              "       [9.34769191, 9.92934969, 9.02446589]])"
            ]
          },
          "metadata": {},
          "execution_count": 67
        }
      ]
    },
    {
      "cell_type": "markdown",
      "source": [
        "Question: Print or show only 3 decimal places of the numpy array rand_arr.\n"
      ],
      "metadata": {
        "id": "ZQcJF9j_UBKg"
      }
    },
    {
      "cell_type": "code",
      "source": [
        "import numpy as np\n",
        "arr=np.random.rand(5,3)\n",
        "np.set_printoptions(precision=3)\n",
        "print(arr)"
      ],
      "metadata": {
        "colab": {
          "base_uri": "https://localhost:8080/"
        },
        "id": "n3ZeWlMeUCFA",
        "outputId": "90d9c816-c7c6-4b17-e079-e3ebb039f60e"
      },
      "execution_count": 71,
      "outputs": [
        {
          "output_type": "stream",
          "name": "stdout",
          "text": [
            "[[0.874 0.976 0.264]\n",
            " [0.584 0.12  0.268]\n",
            " [0.014 0.392 0.183]\n",
            " [0.868 0.563 0.504]\n",
            " [0.889 0.742 0.703]]\n"
          ]
        }
      ]
    }
  ]
}