{
  "nbformat": 4,
  "nbformat_minor": 0,
  "metadata": {
    "colab": {
      "provenance": [],
      "authorship_tag": "ABX9TyPhLnBaAz0qqoCxO7GtyfJH",
      "include_colab_link": true
    },
    "kernelspec": {
      "name": "python3",
      "display_name": "Python 3"
    },
    "language_info": {
      "name": "python"
    }
  },
  "cells": [
    {
      "cell_type": "markdown",
      "metadata": {
        "id": "view-in-github",
        "colab_type": "text"
      },
      "source": [
        "<a href=\"https://colab.research.google.com/github/ANAGHA-SREYAS/python_practice/blob/main/python_basics.ipynb\" target=\"_parent\"><img src=\"https://colab.research.google.com/assets/colab-badge.svg\" alt=\"Open In Colab\"/></a>"
      ]
    },
    {
      "cell_type": "markdown",
      "source": [
        "Exercise 1: Calculate the multiplication and sum of two numbers\n",
        "Given two integer numbers, return their product only if the product is equal to or lower than 1000. Otherwise, return their sum."
      ],
      "metadata": {
        "id": "J7kVJezw7hRK"
      }
    },
    {
      "cell_type": "code",
      "execution_count": 2,
      "metadata": {
        "id": "E2Xa8LY94I1J",
        "colab": {
          "base_uri": "https://localhost:8080/"
        },
        "outputId": "c039ac63-89e9-4a3c-a043-73ce7cf3f11a"
      },
      "outputs": [
        {
          "output_type": "stream",
          "name": "stdout",
          "text": [
            "enter a number100\n",
            "enter a number45\n",
            "145\n"
          ]
        }
      ],
      "source": [
        "x=int(input('enter a number'))\n",
        "y=int(input('enter a number'))\n",
        "if x*y<=1000:\n",
        "  print(x*y)\n",
        "else:\n",
        "  print(x+y)\n"
      ]
    },
    {
      "cell_type": "markdown",
      "source": [
        "Exercise 2: Print the sum of the current number and the previous number.\n",
        "\n",
        "Write a program to iterate the first 10 numbers, and in each iteration, print the sum of the current and previous number."
      ],
      "metadata": {
        "id": "UyxBPQ7D8wzq"
      }
    },
    {
      "cell_type": "code",
      "source": [
        "previuos_num=0\n",
        "for i in range(1,11):\n",
        "  print('current number',i,'previous number',previuos_num,'sum',previuos_num+i)\n",
        "\n"
      ],
      "metadata": {
        "colab": {
          "base_uri": "https://localhost:8080/"
        },
        "id": "UDUAVvQ58yCf",
        "outputId": "968cd92a-b4f7-43e9-ce2f-7324ebefa931"
      },
      "execution_count": 9,
      "outputs": [
        {
          "output_type": "stream",
          "name": "stdout",
          "text": [
            "current number 1 previous number 0 sum 1\n",
            "current number 2 previous number 0 sum 2\n",
            "current number 3 previous number 0 sum 3\n",
            "current number 4 previous number 0 sum 4\n",
            "current number 5 previous number 0 sum 5\n",
            "current number 6 previous number 0 sum 6\n",
            "current number 7 previous number 0 sum 7\n",
            "current number 8 previous number 0 sum 8\n",
            "current number 9 previous number 0 sum 9\n",
            "current number 10 previous number 0 sum 10\n"
          ]
        }
      ]
    },
    {
      "cell_type": "markdown",
      "source": [
        "Exercise 3: Print characters from a string that are present at an even index number.\n",
        "\n",
        "Write a program to accept a string from the user and display characters that are present at an even index number."
      ],
      "metadata": {
        "id": "fj6WcdOf-v4x"
      }
    },
    {
      "cell_type": "code",
      "source": [
        "string=input('enter your string ')\n",
        "if len(string)%2==0:\n",
        "  print(string[1::2]+string[-1])\n",
        "else:\n",
        "  print(string[1::2])"
      ],
      "metadata": {
        "colab": {
          "base_uri": "https://localhost:8080/"
        },
        "id": "qSLw4z7N9fdd",
        "outputId": "403fdd52-cd93-4444-d20e-c0db50ac3d64"
      },
      "execution_count": 18,
      "outputs": [
        {
          "output_type": "stream",
          "name": "stdout",
          "text": [
            "enter your string banana\n",
            "aaaa\n"
          ]
        }
      ]
    },
    {
      "cell_type": "markdown",
      "source": [
        "Exercise 4: Remove first n characters from a string.\n",
        "\n",
        "Write a program to remove characters from a string starting from zero up to n and return a new string."
      ],
      "metadata": {
        "id": "wP6jApRgGPdX"
      }
    },
    {
      "cell_type": "code",
      "source": [
        "string=input('enter your string ')\n",
        "new_string=string[2:]\n",
        "print('the new string is ',new_string)"
      ],
      "metadata": {
        "colab": {
          "base_uri": "https://localhost:8080/"
        },
        "id": "BtUAoTTXCluK",
        "outputId": "9fe1791a-258f-47d6-e1bc-30eced1e9e70"
      },
      "execution_count": 22,
      "outputs": [
        {
          "output_type": "stream",
          "name": "stdout",
          "text": [
            "enter your string alphabet\n",
            "the new string is  phabet\n"
          ]
        }
      ]
    },
    {
      "cell_type": "markdown",
      "source": [
        "# New Section\n",
        "# loop"
      ],
      "metadata": {
        "id": "qMz81q_6JBmC"
      }
    },
    {
      "cell_type": "markdown",
      "source": [
        "Exercise 1: Print First 10 natural numbers using while loop"
      ],
      "metadata": {
        "id": "NFGhYukAIzvs"
      }
    },
    {
      "cell_type": "code",
      "source": [
        "i=1\n",
        "while i<=10:\n",
        "  print(i)\n",
        "  i+=1\n"
      ],
      "metadata": {
        "colab": {
          "base_uri": "https://localhost:8080/"
        },
        "id": "KaIEPCU1HMab",
        "outputId": "194fa1f7-f448-403e-ff39-e7bd881bf7c6"
      },
      "execution_count": 23,
      "outputs": [
        {
          "output_type": "stream",
          "name": "stdout",
          "text": [
            "1\n",
            "2\n",
            "3\n",
            "4\n",
            "5\n",
            "6\n",
            "7\n",
            "8\n",
            "9\n",
            "10\n"
          ]
        }
      ]
    },
    {
      "cell_type": "markdown",
      "source": [
        "Exercise 2: Print the following pattern.\n",
        "\n",
        "Write a program to print the following number pattern using a loop.\n",
        "\n",
        "1\n",
        "\n",
        "1 2\n",
        "\n",
        "1 2 3\n",
        "\n",
        "1 2 3 4\n",
        "\n",
        "1 2 3 4 5"
      ],
      "metadata": {
        "id": "4xlJW4D6J3dh"
      }
    },
    {
      "cell_type": "code",
      "source": [
        "limit=5\n",
        "for i in range(1,limit+1):\n",
        "  for k in range(1,i+1):\n",
        "    print(k,end=' ')\n",
        "  print()\n"
      ],
      "metadata": {
        "colab": {
          "base_uri": "https://localhost:8080/"
        },
        "id": "RYYkhRyKKFsw",
        "outputId": "32034219-f378-4438-86b0-07527fabee41"
      },
      "execution_count": 29,
      "outputs": [
        {
          "output_type": "stream",
          "name": "stdout",
          "text": [
            "1 \n",
            "1 2 \n",
            "1 2 3 \n",
            "1 2 3 4 \n",
            "1 2 3 4 5 \n"
          ]
        }
      ]
    },
    {
      "cell_type": "markdown",
      "source": [
        "Exercise 3: Calculate the sum of all numbers from 1 to a given number.\n",
        "\n",
        "Write a program to accept a number from a user and calculate the sum of all numbers from 1 to a given number"
      ],
      "metadata": {
        "id": "Z7iTNsm8N9NT"
      }
    },
    {
      "cell_type": "code",
      "source": [
        "number=int(input('enter your number '))\n",
        "sum=0\n",
        "for i in range(number+1):\n",
        "  sum+=i\n",
        "print(sum)"
      ],
      "metadata": {
        "colab": {
          "base_uri": "https://localhost:8080/"
        },
        "id": "SiJtqfFJOFSs",
        "outputId": "26836116-b449-47e2-c517-f96f63ab7fcc"
      },
      "execution_count": 42,
      "outputs": [
        {
          "output_type": "stream",
          "name": "stdout",
          "text": [
            "enter your number 10\n",
            "55\n"
          ]
        }
      ]
    },
    {
      "cell_type": "markdown",
      "source": [
        "Exercise 4: Write a program to print multiplication table of a given number"
      ],
      "metadata": {
        "id": "iHBX8HM8Qxvc"
      }
    },
    {
      "cell_type": "code",
      "source": [
        "n=int(input('enter your number '))\n",
        "for i in range(1,11):\n",
        "  print(i,'*',n,'=',i*n)"
      ],
      "metadata": {
        "colab": {
          "base_uri": "https://localhost:8080/"
        },
        "id": "H0recPPiQyzt",
        "outputId": "3e7c754a-4442-49dc-cb93-2a0e9aab26ab"
      },
      "execution_count": 45,
      "outputs": [
        {
          "output_type": "stream",
          "name": "stdout",
          "text": [
            "enter your number 2\n",
            "1 * 2 = 2\n",
            "2 * 2 = 4\n",
            "3 * 2 = 6\n",
            "4 * 2 = 8\n",
            "5 * 2 = 10\n",
            "6 * 2 = 12\n",
            "7 * 2 = 14\n",
            "8 * 2 = 16\n",
            "9 * 2 = 18\n",
            "10 * 2 = 20\n"
          ]
        }
      ]
    },
    {
      "cell_type": "markdown",
      "source": [
        "Exercise 5: Display numbers from a list using loop.\n",
        "\n",
        "Write a program to display only those numbers from a list that satisfy the following conditions\n",
        "\n",
        "\n",
        "The number must be divisible by five\n",
        "\n",
        "If the number is greater than 150, then skip it and move to the next number\n",
        "\n",
        "If the number is greater than 500, then stop the loop\n"
      ],
      "metadata": {
        "id": "xneeS_UbSxBZ"
      }
    },
    {
      "cell_type": "code",
      "source": [
        "numbers=[12, 75, 150, 180, 145, 525, 50]\n",
        "for i in numbers:\n",
        "  if i >500:\n",
        "    break\n",
        "  elif i>150:\n",
        "    continue\n",
        "  elif i%5==0:\n",
        "    print(i)"
      ],
      "metadata": {
        "colab": {
          "base_uri": "https://localhost:8080/"
        },
        "id": "8hWbfXIbS2B1",
        "outputId": "aaba4098-a06c-41d7-d3a1-68086a87b4db"
      },
      "execution_count": 47,
      "outputs": [
        {
          "output_type": "stream",
          "name": "stdout",
          "text": [
            "75\n",
            "150\n",
            "145\n"
          ]
        }
      ]
    },
    {
      "cell_type": "markdown",
      "source": [
        "Exercise 6: Count the total number of digits in a number.\n",
        "\n",
        "Write a program to count the total number of digits in a number using a while loop."
      ],
      "metadata": {
        "id": "iUWHc-KPVDM5"
      }
    },
    {
      "cell_type": "code",
      "source": [
        "number=(input('enter your number '))\n",
        "digit_count=0\n",
        "for i in number:\n",
        "  if i.isdigit():\n",
        "    digit_count+=1\n",
        "print(digit_count)"
      ],
      "metadata": {
        "colab": {
          "base_uri": "https://localhost:8080/"
        },
        "id": "ul2D-YbkVGA7",
        "outputId": "b2033486-7e7e-4c5f-f02a-cd1a2f3ee304"
      },
      "execution_count": 51,
      "outputs": [
        {
          "output_type": "stream",
          "name": "stdout",
          "text": [
            "enter your number 357678\n",
            "6\n"
          ]
        }
      ]
    },
    {
      "cell_type": "markdown",
      "source": [
        "Exercise 7: Print the following pattern.\n",
        "\n",
        "Write a program to use for loop to print the following reverse number pattern\n",
        "\n",
        "5 4 3 2 1\n",
        "\n",
        "4 3 2 1\n",
        "\n",
        "3 2 1\n",
        "\n",
        "2 1\n",
        "\n",
        "1"
      ],
      "metadata": {
        "id": "j4jSy63fX4pL"
      }
    },
    {
      "cell_type": "code",
      "source": [
        "n=5\n",
        "k=5\n",
        "for i in range(0,n+1):\n",
        "  for j in range(k-i,0,-1):\n",
        "    print(j,end=' ')\n",
        "  print()"
      ],
      "metadata": {
        "colab": {
          "base_uri": "https://localhost:8080/"
        },
        "id": "0z63TQZbYQpm",
        "outputId": "ff7b8efb-9851-408d-b7b2-7667a63f2ed5"
      },
      "execution_count": 54,
      "outputs": [
        {
          "output_type": "stream",
          "name": "stdout",
          "text": [
            "5 4 3 2 1 \n",
            "4 3 2 1 \n",
            "3 2 1 \n",
            "2 1 \n",
            "1 \n",
            "\n"
          ]
        }
      ]
    },
    {
      "cell_type": "markdown",
      "source": [
        "Exercise 8: Print list in reverse order using a loop"
      ],
      "metadata": {
        "id": "BT_sa0NaaB0Z"
      }
    },
    {
      "cell_type": "code",
      "source": [
        "list1 = [10, 20, 30, 40, 50]\n",
        "new_list=reversed(list1)\n",
        "for i in new_list:\n",
        "  print(i)"
      ],
      "metadata": {
        "colab": {
          "base_uri": "https://localhost:8080/"
        },
        "id": "rrKkJx9CYaLU",
        "outputId": "c0e1cca0-d6d0-413f-cdd2-946f3ddefaf0"
      },
      "execution_count": 55,
      "outputs": [
        {
          "output_type": "stream",
          "name": "stdout",
          "text": [
            "50\n",
            "40\n",
            "30\n",
            "20\n",
            "10\n"
          ]
        }
      ]
    },
    {
      "cell_type": "markdown",
      "source": [
        "Exercise 9: Display numbers from -10 to -1 using for loop"
      ],
      "metadata": {
        "id": "ScegCQjzaspk"
      }
    },
    {
      "cell_type": "code",
      "source": [
        "for i in range(-10,0):\n",
        "  print(i)"
      ],
      "metadata": {
        "colab": {
          "base_uri": "https://localhost:8080/"
        },
        "id": "9VhuIpSZatsI",
        "outputId": "a3a1932f-a9ea-485b-ab5f-d030f3b99ede"
      },
      "execution_count": 58,
      "outputs": [
        {
          "output_type": "stream",
          "name": "stdout",
          "text": [
            "-10\n",
            "-9\n",
            "-8\n",
            "-7\n",
            "-6\n",
            "-5\n",
            "-4\n",
            "-3\n",
            "-2\n",
            "-1\n"
          ]
        }
      ]
    },
    {
      "cell_type": "markdown",
      "source": [
        "Exercise 10: Use else block to display a message “Done” after successful execution of for loop"
      ],
      "metadata": {
        "id": "GrKESvQKbFS3"
      }
    },
    {
      "cell_type": "code",
      "source": [
        "for i in range(1,6):\n",
        "  print(i)\n",
        "else:\n",
        "  print('Done')"
      ],
      "metadata": {
        "colab": {
          "base_uri": "https://localhost:8080/"
        },
        "id": "pHoVsx3ybU1N",
        "outputId": "9b592bd7-57a1-43e7-c98f-79fb0b05209e"
      },
      "execution_count": 59,
      "outputs": [
        {
          "output_type": "stream",
          "name": "stdout",
          "text": [
            "1\n",
            "2\n",
            "3\n",
            "4\n",
            "5\n",
            "Done\n"
          ]
        }
      ]
    },
    {
      "cell_type": "markdown",
      "source": [
        "Exercise 11: Write a program to display all prime numbers within a range"
      ],
      "metadata": {
        "id": "elo7DJPkb_o5"
      }
    },
    {
      "cell_type": "code",
      "source": [
        "number=range(2,10)\n",
        "for i in range(1,10):\n",
        "  if i >1:\n",
        "    for k in range(2,i):\n",
        "      if (i%k)==0:\n",
        "        break\n",
        "    else:\n",
        "      print(i)\n",
        ""
      ],
      "metadata": {
        "colab": {
          "base_uri": "https://localhost:8080/"
        },
        "id": "_RO4KrnocEzN",
        "outputId": "a15e8cba-9802-486a-b9cd-61896b40ddcb"
      },
      "execution_count": 71,
      "outputs": [
        {
          "output_type": "stream",
          "name": "stdout",
          "text": [
            "2\n",
            "3\n",
            "5\n",
            "7\n"
          ]
        }
      ]
    },
    {
      "cell_type": "markdown",
      "source": [
        "Exercise 12: Display Fibonacci series up to 10 terms"
      ],
      "metadata": {
        "id": "6x_y82A3zq93"
      }
    },
    {
      "cell_type": "code",
      "source": [
        "fib_series=[0,1]\n",
        "for i in range(2,11):\n",
        "  new_value=fib_series[-1]+fib_series[-2]\n",
        "  fib_series.append(new_value)\n",
        "print(fib_series)"
      ],
      "metadata": {
        "colab": {
          "base_uri": "https://localhost:8080/"
        },
        "id": "e4Czwj3szr3z",
        "outputId": "fd6fcf41-cc30-40af-f560-2fb13b07877e"
      },
      "execution_count": 73,
      "outputs": [
        {
          "output_type": "stream",
          "name": "stdout",
          "text": [
            "[0, 1, 1, 2, 3, 5, 8, 13, 21, 34, 55]\n"
          ]
        }
      ]
    },
    {
      "cell_type": "markdown",
      "source": [
        "Exercise 13: Find the factorial of a given number"
      ],
      "metadata": {
        "id": "lBP5BUD52sTV"
      }
    },
    {
      "cell_type": "code",
      "source": [
        "number=int(input('enter your number '))\n",
        "factorial=1\n",
        "for i in range(1,number+1):\n",
        "  factorial=factorial*i\n",
        "print(factorial)"
      ],
      "metadata": {
        "colab": {
          "base_uri": "https://localhost:8080/"
        },
        "id": "6H7oIpoY2tJ8",
        "outputId": "aa708020-7da0-46c2-ab92-8c910813d638"
      },
      "execution_count": 76,
      "outputs": [
        {
          "output_type": "stream",
          "name": "stdout",
          "text": [
            "enter your number 10\n",
            "3628800\n"
          ]
        }
      ]
    },
    {
      "cell_type": "markdown",
      "source": [
        "Exercise 14: Reverse a given integer number"
      ],
      "metadata": {
        "id": "UmDcHfF04Ge5"
      }
    },
    {
      "cell_type": "code",
      "source": [
        "number=5678\n",
        "reverse_number=int(str(number)[::-1])\n",
        "reverse_number"
      ],
      "metadata": {
        "colab": {
          "base_uri": "https://localhost:8080/"
        },
        "id": "k8IJzo7Y3360",
        "outputId": "afba0858-a2bc-412b-9e0c-6af6a9962b1f"
      },
      "execution_count": 77,
      "outputs": [
        {
          "output_type": "execute_result",
          "data": {
            "text/plain": [
              "8765"
            ]
          },
          "metadata": {},
          "execution_count": 77
        }
      ]
    },
    {
      "cell_type": "markdown",
      "source": [
        "Exercise 15: Use a loop to display elements from a given list present at odd index positions"
      ],
      "metadata": {
        "id": "M7V2T-xE6Rht"
      }
    },
    {
      "cell_type": "code",
      "source": [
        "lst=[1,2,3,4,5,6]\n",
        "for i in lst[1::2]:\n",
        "  print(i)\n",
        ""
      ],
      "metadata": {
        "colab": {
          "base_uri": "https://localhost:8080/"
        },
        "id": "K-CXt1dm6KTj",
        "outputId": "6a6e2895-eb62-4ecf-eb4b-dfc90cdbac7c"
      },
      "execution_count": 84,
      "outputs": [
        {
          "output_type": "stream",
          "name": "stdout",
          "text": [
            "2\n",
            "4\n",
            "6\n"
          ]
        }
      ]
    },
    {
      "cell_type": "markdown",
      "source": [
        "Exercise 16: Calculate the cube of all numbers from 1 to a given number"
      ],
      "metadata": {
        "id": "hBM5ED888Lks"
      }
    },
    {
      "cell_type": "code",
      "source": [
        "number=int(input('enter a number '))\n",
        "for i in range(1,number+1):\n",
        "  cube=i*i*i\n",
        "  print('current number is ',i,'curresponding cube is ',cube)"
      ],
      "metadata": {
        "colab": {
          "base_uri": "https://localhost:8080/"
        },
        "id": "c5dgoMFI8B2T",
        "outputId": "8d3bdfc2-076b-402f-ff13-ea3858210de3"
      },
      "execution_count": 86,
      "outputs": [
        {
          "output_type": "stream",
          "name": "stdout",
          "text": [
            "enter a number 3\n",
            "current number is  1 curresponding cube is  1\n",
            "current number is  2 curresponding cube is  8\n",
            "current number is  3 curresponding cube is  27\n"
          ]
        }
      ]
    },
    {
      "cell_type": "markdown",
      "source": [
        "Exercise 17: Find the sum of the series upto n terms.\n",
        "\n",
        "Write a program to calculate the sum of series up to n term. For example, if n =5 the series will become 2 + 22 + 222 + 2222 + 22222 = 24690"
      ],
      "metadata": {
        "id": "q88AtE1O9FVk"
      }
    },
    {
      "cell_type": "code",
      "source": [
        "n=5\n",
        "series_sum=0\n",
        "term=2\n",
        "for i in range(1,n+1):\n",
        "  series_sum+=term\n",
        "  term=term*10+2\n",
        "print(series_sum)"
      ],
      "metadata": {
        "colab": {
          "base_uri": "https://localhost:8080/"
        },
        "id": "zv17WaSA9H00",
        "outputId": "fdc07073-7bf3-4c33-e891-14a183f4295e"
      },
      "execution_count": 87,
      "outputs": [
        {
          "output_type": "stream",
          "name": "stdout",
          "text": [
            "24690\n"
          ]
        }
      ]
    },
    {
      "cell_type": "code",
      "source": [],
      "metadata": {
        "id": "RBAc3OCMAIdw"
      },
      "execution_count": null,
      "outputs": []
    }
  ]
}